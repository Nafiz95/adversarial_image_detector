{
  "nbformat": 4,
  "nbformat_minor": 0,
  "metadata": {
    "colab": {
      "name": "colab-git.ipynb",
      "provenance": [],
      "collapsed_sections": [],
      "authorship_tag": "ABX9TyPcisq9WBnBp+EKBo629KDH",
      "include_colab_link": true
    },
    "kernelspec": {
      "name": "python3",
      "display_name": "Python 3"
    },
    "language_info": {
      "name": "python"
    }
  },
  "cells": [
    {
      "cell_type": "markdown",
      "metadata": {
        "id": "view-in-github",
        "colab_type": "text"
      },
      "source": [
        "<a href=\"https://colab.research.google.com/github/Nafiz95/adversarial_image_detector/blob/dev/colab_git.ipynb\" target=\"_parent\"><img src=\"https://colab.research.google.com/assets/colab-badge.svg\" alt=\"Open In Colab\"/></a>"
      ]
    },
    {
      "cell_type": "code",
      "execution_count": null,
      "metadata": {
        "id": "qahJxpOUArlS"
      },
      "outputs": [],
      "source": [
        "# file --> save a copy in github"
      ]
    },
    {
      "cell_type": "code",
      "source": [
        "#change push"
      ],
      "metadata": {
        "id": "qMszfF6-B1SN"
      },
      "execution_count": null,
      "outputs": []
    }
  ]
}